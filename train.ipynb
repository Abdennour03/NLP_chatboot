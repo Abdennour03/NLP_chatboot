{
 "cells": [
  {
   "cell_type": "code",
   "execution_count": null,
   "id": "2547aa03",
   "metadata": {},
   "outputs": [
    {
     "data": {
      "text/plain": [
       "{'intents': [{'tag': 'greeting',\n",
       "   'patterns': ['Hello', 'Hi', 'Hey', 'Good morning', 'Good evening'],\n",
       "   'responses': ['Hello! How can I help you with machine learning today?',\n",
       "    'Hi there! Ask me anything about ML or AI.']},\n",
       "  {'tag': 'goodbye',\n",
       "   'patterns': ['Bye', 'See you', 'Goodbye', 'Talk to you later'],\n",
       "   'responses': ['Goodbye! Keep learning.',\n",
       "    'See you later. Stay curious about AI!']},\n",
       "  {'tag': 'what_is_ml',\n",
       "   'patterns': ['What is machine learning?',\n",
       "    'Explain ML',\n",
       "    'Can you define machine learning?',\n",
       "    'Tell me about ML'],\n",
       "   'responses': ['Machine learning is a branch of AI that allows systems to learn from data and improve over time without being explicitly programmed.']},\n",
       "  {'tag': 'what_is_dl',\n",
       "   'patterns': ['What is deep learning?',\n",
       "    'Define deep learning',\n",
       "    'Tell me about deep learning',\n",
       "    'Explain DL'],\n",
       "   'responses': ['Deep learning is a subset of machine learning that uses neural networks with many layers to analyze data and make decisions.']},\n",
       "  {'tag': 'ml_algorithms',\n",
       "   'patterns': ['What are popular ML algorithms?',\n",
       "    'Give me examples of machine learning algorithms',\n",
       "    'List ML models'],\n",
       "   'responses': ['Some common ML algorithms include Linear Regression, Decision Trees, SVM, KNN, Random Forest, and Neural Networks.']},\n",
       "  {'tag': 'difference_ml_dl',\n",
       "   'patterns': ['What is the difference between ML and DL?',\n",
       "    'ML vs DL',\n",
       "    'Difference between machine learning and deep learning'],\n",
       "   'responses': ['Machine learning uses algorithms to parse data, learn from it, and make decisions. Deep learning is a specialized ML field using multi-layered neural networks.']},\n",
       "  {'tag': 'neural_network',\n",
       "   'patterns': ['What is a neural network?',\n",
       "    'Explain neural networks',\n",
       "    'How do neural nets work?'],\n",
       "   'responses': ['A neural network is a series of algorithms that mimic the operations of a human brain to recognize relationships in data.']},\n",
       "  {'tag': 'supervised_learning',\n",
       "   'patterns': ['What is supervised learning?',\n",
       "    'Explain supervised learning',\n",
       "    'Examples of supervised learning'],\n",
       "   'responses': ['Supervised learning is a type of ML where the model is trained on labeled data. Examples include regression and classification.']},\n",
       "  {'tag': 'unsupervised_learning',\n",
       "   'patterns': ['What is unsupervised learning?',\n",
       "    'Explain unsupervised learning',\n",
       "    'Examples of unsupervised learning'],\n",
       "   'responses': ['Unsupervised learning involves training on data without labels. Common techniques include clustering and dimensionality reduction.']}]}"
      ]
     },
     "execution_count": 1,
     "metadata": {},
     "output_type": "execute_result"
    }
   ],
   "source": [
    "import json \n",
    "\n",
    "with open('dataset.json') as file:\n",
    "    data = json.load(file)\n",
    "    \n",
    "data"
   ]
  },
  {
   "cell_type": "code",
   "execution_count": 2,
   "id": "a753427b",
   "metadata": {},
   "outputs": [
    {
     "name": "stdout",
     "output_type": "stream",
     "text": [
      "patterns : ['Hello', 'Hi', 'Hey', 'Good morning', 'Good evening', 'Bye', 'See you', 'Goodbye', 'Talk to you later', 'What is machine learning?', 'Explain ML', 'Can you define machine learning?', 'Tell me about ML', 'What is deep learning?', 'Define deep learning', 'Tell me about deep learning', 'Explain DL', 'What are popular ML algorithms?', 'Give me examples of machine learning algorithms', 'List ML models', 'What is the difference between ML and DL?', 'ML vs DL', 'Difference between machine learning and deep learning', 'What is a neural network?', 'Explain neural networks', 'How do neural nets work?', 'What is supervised learning?', 'Explain supervised learning', 'Examples of supervised learning', 'What is unsupervised learning?', 'Explain unsupervised learning', 'Examples of unsupervised learning']\n",
      "tags : ['difference_ml_dl', 'goodbye', 'greeting', 'ml_algorithms', 'neural_network', 'supervised_learning', 'unsupervised_learning', 'what_is_dl', 'what_is_ml']\n",
      "responses : {'greeting': ['Hello! How can I help you with machine learning today?', 'Hi there! Ask me anything about ML or AI.'], 'goodbye': ['Goodbye! Keep learning.', 'See you later. Stay curious about AI!'], 'what_is_ml': ['Machine learning is a branch of AI that allows systems to learn from data and improve over time without being explicitly programmed.'], 'what_is_dl': ['Deep learning is a subset of machine learning that uses neural networks with many layers to analyze data and make decisions.'], 'ml_algorithms': ['Some common ML algorithms include Linear Regression, Decision Trees, SVM, KNN, Random Forest, and Neural Networks.'], 'difference_ml_dl': ['Machine learning uses algorithms to parse data, learn from it, and make decisions. Deep learning is a specialized ML field using multi-layered neural networks.'], 'neural_network': ['A neural network is a series of algorithms that mimic the operations of a human brain to recognize relationships in data.'], 'supervised_learning': ['Supervised learning is a type of ML where the model is trained on labeled data. Examples include regression and classification.'], 'unsupervised_learning': ['Unsupervised learning involves training on data without labels. Common techniques include clustering and dimensionality reduction.']}\n"
     ]
    }
   ],
   "source": [
    "patterns = []\n",
    "tags = []\n",
    "responses = {}\n",
    "\n",
    "for intent in data['intents']:\n",
    "    for pattern in intent['patterns']:\n",
    "        patterns.append(pattern)\n",
    "        tags.append(intent['tag'])\n",
    "    responses[intent['tag']] = intent['responses']\n",
    "tags = sorted(set(tags))\n",
    "\n",
    "    \n",
    "print('patterns :', patterns)\n",
    "print('tags :',tags)\n",
    "print('responses :', responses)"
   ]
  },
  {
   "cell_type": "code",
   "execution_count": 38,
   "id": "359e8c03",
   "metadata": {},
   "outputs": [
    {
     "name": "stdout",
     "output_type": "stream",
     "text": [
      "[['hello'], ['hi'], ['hey'], ['good', 'morning'], ['good', 'evening'], ['bye'], ['see', 'you'], ['goodbye'], ['talk', 'to', 'you', 'later'], ['what', 'is', 'machine', 'learning'], ['explain', 'ml'], ['can', 'you', 'define', 'machine', 'learning'], ['tell', 'me', 'about', 'ml'], ['what', 'is', 'deep', 'learning'], ['define', 'deep', 'learning'], ['tell', 'me', 'about', 'deep', 'learning'], ['explain', 'dl'], ['what', 'are', 'popular', 'ml', 'algorithms'], ['give', 'me', 'examples', 'of', 'machine', 'learning', 'algorithms'], ['list', 'ml', 'models'], ['what', 'is', 'the', 'difference', 'between', 'ml', 'and', 'dl'], ['ml', 'vs', 'dl'], ['difference', 'between', 'machine', 'learning', 'and', 'deep', 'learning'], ['what', 'is', 'neural', 'network'], ['explain', 'neural', 'networks'], ['how', 'do', 'neural', 'nets', 'work'], ['what', 'is', 'supervised', 'learning'], ['explain', 'supervised', 'learning'], ['examples', 'of', 'supervised', 'learning'], ['what', 'is', 'unsupervised', 'learning'], ['explain', 'unsupervised', 'learning'], ['examples', 'of', 'unsupervised', 'learning']]\n",
      "x_tr : (32, 100)\n",
      "x_tr : [[-0.00274263  0.00010893  0.00203456 ...  0.00554086  0.00694501\n",
      "  -0.00388079]\n",
      " [ 0.00964853  0.00732483  0.00126166 ...  0.00888277 -0.00570292\n",
      "   0.00505279]\n",
      " [-0.00696361 -0.00245851 -0.00802294 ...  0.00273935  0.00561541\n",
      "   0.00257176]\n",
      " ...\n",
      " [ 0.0001757   0.00378903  0.00119026 ... -0.00297458 -0.00134057\n",
      "   0.00039016]\n",
      " [ 0.00069531  0.00321675 -0.00026369 ... -0.00173571 -0.00108983\n",
      "   0.00236081]\n",
      " [-0.00137735  0.00267005  0.00069304 ...  0.00073229  0.00280705\n",
      "   0.0004995 ]]\n",
      "y_tr : [0 1 2 3 4 5 6 7 8]\n"
     ]
    }
   ],
   "source": [
    "from spacy_utiles import clean_text,  sentence_to_vector\n",
    "from gensim.models import Word2Vec\n",
    "from torch.utils.data import Dataset, DataLoader\n",
    "from sklearn.preprocessing import LabelEncoder\n",
    "import numpy as np\n",
    "\n",
    "pattern_clean = clean_text(patterns)\n",
    "sentences = []\n",
    "for sentence in pattern_clean:\n",
    "    sentences.append(sentence)\n",
    "    \n",
    "print(sentences)\n",
    "w2v_model = Word2Vec(sentences, vector_size=100, window=5, min_count=1, workers=4)\n",
    "\n",
    "label_encoder = LabelEncoder()\n",
    "y_train = label_encoder.fit_transform(tags)\n",
    "X_train = np.array([sentence_to_vector(pattern, w2v_model) for pattern in pattern_clean])\n",
    "\n",
    "\n",
    "print('x_tr :', X_train.shape)\n",
    "print('x_tr :', X_train)\n",
    "print('y_tr :', y_train)\n"
   ]
  },
  {
   "cell_type": "code",
   "execution_count": 22,
   "id": "d5c6413f",
   "metadata": {},
   "outputs": [
    {
     "data": {
      "text/plain": [
       "array([-0.00274263,  0.00010893,  0.00203456, -0.00928968,  0.00483915,\n",
       "        0.00337212, -0.00017393, -0.00349733, -0.00760466,  0.00759606,\n",
       "       -0.00860319, -0.00738419,  0.00445166, -0.00851143, -0.00328415,\n",
       "       -0.00209056, -0.00190278, -0.00683529,  0.00429653,  0.00099886,\n",
       "        0.00365659, -0.00132833,  0.00693502, -0.00953359,  0.00584622,\n",
       "       -0.00513144,  0.00170328, -0.00694106, -0.00248122, -0.00642885,\n",
       "       -0.00335099,  0.00972953,  0.00268972,  0.00160534, -0.00608383,\n",
       "        0.00557297, -0.00812862, -0.00229347, -0.00646841, -0.00638226,\n",
       "        0.00229702, -0.00328671,  0.00243008,  0.00391644, -0.00627002,\n",
       "       -0.0017449 , -0.00276249, -0.00979631, -0.0098386 ,  0.00111001,\n",
       "        0.00438087,  0.00023249, -0.004872  ,  0.00362778,  0.00168863,\n",
       "       -0.00944161,  0.00718844,  0.00777315, -0.00773156, -0.00076449,\n",
       "        0.00603131, -0.00278046, -0.00033712, -0.00421984,  0.00611463,\n",
       "        0.00699556,  0.00208625, -0.00469956, -0.00183011, -0.00399879,\n",
       "       -0.00976694,  0.00781099, -0.00061221, -0.00060406,  0.00708461,\n",
       "       -0.00903622,  0.00632637, -0.00756544, -0.00535821,  0.00507559,\n",
       "       -0.00349462, -0.00348699, -0.00630809, -0.00390989, -0.00266059,\n",
       "       -0.00409498,  0.00945399,  0.00945442, -0.00038158, -0.00028439,\n",
       "       -0.00564182,  0.00791759, -0.00494454,  0.00589043,  0.00911296,\n",
       "        0.00575467, -0.00094815,  0.00554086,  0.00694501, -0.00388079],\n",
       "      dtype=float32)"
      ]
     },
     "execution_count": 22,
     "metadata": {},
     "output_type": "execute_result"
    }
   ],
   "source": [
    "w2v_model.wv[\"hello\"]"
   ]
  }
 ],
 "metadata": {
  "kernelspec": {
   "display_name": "Python 3",
   "language": "python",
   "name": "python3"
  },
  "language_info": {
   "codemirror_mode": {
    "name": "ipython",
    "version": 3
   },
   "file_extension": ".py",
   "mimetype": "text/x-python",
   "name": "python",
   "nbconvert_exporter": "python",
   "pygments_lexer": "ipython3",
   "version": "3.12.9"
  }
 },
 "nbformat": 4,
 "nbformat_minor": 5
}
